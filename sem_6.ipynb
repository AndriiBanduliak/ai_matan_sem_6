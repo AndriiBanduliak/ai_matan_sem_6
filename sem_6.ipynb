{
  "nbformat": 4,
  "nbformat_minor": 0,
  "metadata": {
    "colab": {
      "provenance": []
    },
    "kernelspec": {
      "name": "python3",
      "display_name": "Python 3"
    },
    "language_info": {
      "name": "python"
    }
  },
  "cells": [
    {
      "cell_type": "markdown",
      "source": [
        "С помощью 90% доверительного интервала оценить средний вес нормально \n",
        "распределенной популяции, если дисперсия генеральной совокупности 3.6, а среднее \n",
        "арифметичекое по выборке объемом 100 получилось равным 71.2"
      ],
      "metadata": {
        "id": "DbQC11Ih-gsH"
      }
    },
    {
      "cell_type": "code",
      "execution_count": 1,
      "metadata": {
        "colab": {
          "base_uri": "https://localhost:8080/"
        },
        "id": "uLR0cz2h6Fwf",
        "outputId": "aae772bc-0abf-44a7-a019-a674f22d484c"
      },
      "outputs": [
        {
          "output_type": "stream",
          "name": "stdout",
          "text": [
            "(70.88791096727466, 71.51208903272534)\n"
          ]
        }
      ],
      "source": [
        "#1\n",
        "from scipy.stats import norm\n",
        "import numpy as np\n",
        "\n",
        "mean = 71.2\n",
        "std = np.sqrt(3.6)\n",
        "n = 100\n",
        "\n",
        "interval = norm.interval(0.9, loc=mean, scale=std / np.sqrt(n))\n",
        "print(interval)\n"
      ]
    },
    {
      "cell_type": "code",
      "source": [
        "#1.1\n",
        "import math\n",
        "\n",
        "mean = 71.2\n",
        "z = 1.65\n",
        "std = math.sqrt(3.6)\n",
        "n = 100\n",
        "\n",
        "interval = z * (std / math.sqrt(n))\n",
        "confidence_interval = (mean - interval, mean + interval)\n",
        "print(confidence_interval)\n"
      ],
      "metadata": {
        "colab": {
          "base_uri": "https://localhost:8080/"
        },
        "id": "v-fg_qGv6e-O",
        "outputId": "aae3534c-ea66-488b-a7cf-7692f95770bc"
      },
      "execution_count": 2,
      "outputs": [
        {
          "output_type": "stream",
          "name": "stdout",
          "text": [
            "(70.88693451164333, 71.51306548835667)\n"
          ]
        }
      ]
    },
    {
      "cell_type": "markdown",
      "source": [
        "Даны две группы студентов. В каждой по 21 человеку. Первая группа прошла недельную \n",
        "подготовку для сдачи тестов, другая группа приступила к тестам без подготовки.\n",
        "В 1й группе среднее время прохождения теста целиком требует 1.8 ч, во второй 2.3 ч. \n",
        "Постройте 95% интервал для разности средних арифметических, если известно, что \n",
        "стандартное отклонение 1 группы составило 0.4 ч, во 2й группе -0.6ч"
      ],
      "metadata": {
        "id": "vToESJMy-Rn0"
      }
    },
    {
      "cell_type": "code",
      "source": [
        "#2\n",
        "import numpy as np\n",
        "import scipy.stats as st\n",
        "\n",
        "# среднее время прохождения теста первой группы\n",
        "mean_group1 = 1.8\n",
        "\n",
        "# среднее время прохождения теста второй группы\n",
        "mean_group2 = 2.3\n",
        "\n",
        "# количество студентов в группах\n",
        "n = 21\n",
        "\n",
        "# стандартное отклонение первой группы\n",
        "std_group1 = 0.4\n",
        "\n",
        "# стандартное отклонение второй группы\n",
        "std_group2 = 0.6\n",
        "\n",
        "# разность средних\n",
        "mean_difference = mean_group1 - mean_group2\n",
        "\n",
        "# стандартное отклонение для разности средних\n",
        "std_difference = np.sqrt(std_group1**2 / n + std_group2**2 / n)\n",
        "\n",
        "# находим доверительный интервал для разности средних с помощью метода scipy.stats.norm.interval\n",
        "confidence_interval = st.norm.interval(alpha=0.95, loc=mean_difference, scale=std_difference)\n",
        "\n",
        "print(f\"95% confidence interval for the difference between the means:\", confidence_interval)\n"
      ],
      "metadata": {
        "colab": {
          "base_uri": "https://localhost:8080/"
        },
        "id": "gB0fKEAc7edB",
        "outputId": "b13773d7-8d98-48d3-fa8b-dfd27e722bb5"
      },
      "execution_count": 7,
      "outputs": [
        {
          "output_type": "stream",
          "name": "stdout",
          "text": [
            "95% confidence interval for the difference between the means: (-0.8084182832855515, -0.19158171671444796)\n"
          ]
        }
      ]
    },
    {
      "cell_type": "markdown",
      "source": [
        "Средние расходы на обследование одного больного до и после ознакомления с \n",
        "расходами коллег:\n",
        "X= np.array([20,17, 14, 42, 50, 62, 8, 49, 81, 54, 48, 55, 56])\n",
        "Y= np.array ([20, 26, 1, 24, 1, 47, 15, 7, 65, 9, 21, 36, 30])\n",
        "Произошли ли изменения?"
      ],
      "metadata": {
        "id": "DvxQUCZz-J_E"
      }
    },
    {
      "cell_type": "code",
      "source": [
        "# 3\n",
        "import numpy as np\n",
        "from scipy.stats import ttest_ind\n",
        "\n",
        "X = np.array([20,17, 14, 42, 50, 62, 8, 49, 81, 54, 48, 55, 56])\n",
        "Y = np.array ([20, 26, 1, 24, 1, 47, 15, 7, 65, 9, 21, 36, 30])\n",
        "\n",
        "t, p = ttest_ind(X, Y)\n",
        "\n",
        "if p < 0.05:\n",
        "  print(\"Произошли изменения\")\n",
        "else:\n",
        "  print(\"Не произошли изменения\")"
      ],
      "metadata": {
        "colab": {
          "base_uri": "https://localhost:8080/"
        },
        "id": "qkCkLxE69d2o",
        "outputId": "9416b3e3-57f5-49c3-a63a-979aff55132d"
      },
      "execution_count": 10,
      "outputs": [
        {
          "output_type": "stream",
          "name": "stdout",
          "text": [
            "Произошли изменения\n"
          ]
        }
      ]
    },
    {
      "cell_type": "markdown",
      "source": [
        "Даны значения проницаемости сосудов сетчатки gr1(здоровые пациенты), gr 2 (поражения в \n",
        "области центральной ямки), gr 3 ( в области центральной ямки и на перефирии)\n",
        "gr1=np.array([0.5, 0.7, 1, 1.2, 1.4])\n",
        "gr2= np.array([1.3, 1.45, 1.6, 1.7, 1.8])\n",
        "gr3=np.array([6.2, 12.6, 13.2, 14.1, 14.2])\n",
        "Сравнить данные, относящиеся к разным видам поражений"
      ],
      "metadata": {
        "id": "6t1DjBor-n9t"
      }
    },
    {
      "cell_type": "code",
      "source": [
        "# 4\n",
        "import numpy as np\n",
        "import matplotlib.pyplot as plt\n",
        "\n",
        "gr1 = np.array([0.5, 0.7, 1, 1.2, 1.4])\n",
        "gr2 = np.array([1.3, 1.45, 1.6, 1.7, 1.8])\n",
        "gr3 = np.array([6.2, 12.6, 13.2, 14.1, 14.2])\n",
        "\n",
        "plt.hist(gr1, label='gr1')\n",
        "plt.hist(gr2, label='gr2')\n",
        "plt.hist(gr3, label='gr3')\n",
        "plt.legend()\n",
        "plt.show()\n"
      ],
      "metadata": {
        "colab": {
          "base_uri": "https://localhost:8080/",
          "height": 265
        },
        "id": "Vm75Kdqe-pIw",
        "outputId": "af3de113-7a20-4f02-8497-21bfe0b4d3e2"
      },
      "execution_count": 11,
      "outputs": [
        {
          "output_type": "display_data",
          "data": {
            "text/plain": [
              "<Figure size 432x288 with 1 Axes>"
            ],
            "image/png": "[encoded data removed]"
          },
          "metadata": {
            "needs_background": "light"
          }
        }
      ]
    },
    {
      "cell_type": "markdown",
      "source": [
        "Средние расходы на лечение одного больного до и после ознакомления с расходами коллег\n",
        "X= np.array([ 32, 41, 51, 29, 76, 47, 60, 58, 40, 64, 73, 66, 73])\n",
        "Y= np.array ([42, 90, 71, 47, 56, 43, 137, 63, 28, 60, 87, 69, 50]).\n",
        "Произошли ли изменения?\n"
      ],
      "metadata": {
        "id": "mLLSJLlF_TeZ"
      }
    },
    {
      "cell_type": "code",
      "source": [
        "# 5\n",
        "import numpy as np\n",
        "import scipy.stats as stats\n",
        "\n",
        "X = np.array([32, 41, 51, 29, 76, 47, 60, 58, 40, 64, 73, 66, 73])\n",
        "Y = np.array([42, 90, 71, 47, 56, 43, 137, 63, 28, 60, 87, 69, 50])\n",
        "\n",
        "t, p = stats.ttest_ind(X, Y)\n",
        "\n",
        "if p < 0.05:\n",
        "    print(\"There is a significant difference in the mean expenses (p = {:.4f})\".format(p))\n",
        "else:\n",
        "    print(\"There is no significant difference in the mean expenses (p = {:.4f})\".format(p))\n"
      ],
      "metadata": {
        "colab": {
          "base_uri": "https://localhost:8080/"
        },
        "id": "XjLtd0bM_T9I",
        "outputId": "d2a976d3-7932-4a0d-f457-ca520c71b780"
      },
      "execution_count": 12,
      "outputs": [
        {
          "output_type": "stream",
          "name": "stdout",
          "text": [
            "There is no significant difference in the mean expenses (p = 0.2628)\n"
          ]
        }
      ]
    }
  ]
}